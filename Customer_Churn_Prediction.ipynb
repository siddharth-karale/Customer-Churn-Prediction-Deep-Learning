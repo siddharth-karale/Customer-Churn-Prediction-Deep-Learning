{
 "cells": [
  {
   "cell_type": "code",
   "execution_count": 1,
   "id": "a540680c-3d22-490d-b956-6e4865942e04",
   "metadata": {},
   "outputs": [],
   "source": [
    "import pandas as pd\n",
    "import numpy as np\n",
    "import matplotlib.pyplot as plt\n",
    "import seaborn as sns\n"
   ]
  },
  {
   "cell_type": "code",
   "execution_count": 2,
   "id": "dfb35833-2b9f-456a-9aac-e21186527090",
   "metadata": {},
   "outputs": [],
   "source": [
    "customer = pd.read_csv(\"K:\\DATA SCIENCE\\DataSets\\Churn_Modelling.csv\")"
   ]
  },
  {
   "cell_type": "code",
   "execution_count": 3,
   "id": "d43182ae-8a73-4cc1-a453-94d085cbebca",
   "metadata": {},
   "outputs": [
    {
     "data": {
      "text/html": [
       "<div>\n",
       "<style scoped>\n",
       "    .dataframe tbody tr th:only-of-type {\n",
       "        vertical-align: middle;\n",
       "    }\n",
       "\n",
       "    .dataframe tbody tr th {\n",
       "        vertical-align: top;\n",
       "    }\n",
       "\n",
       "    .dataframe thead th {\n",
       "        text-align: right;\n",
       "    }\n",
       "</style>\n",
       "<table border=\"1\" class=\"dataframe\">\n",
       "  <thead>\n",
       "    <tr style=\"text-align: right;\">\n",
       "      <th></th>\n",
       "      <th>RowNumber</th>\n",
       "      <th>CustomerId</th>\n",
       "      <th>Surname</th>\n",
       "      <th>CreditScore</th>\n",
       "      <th>Geography</th>\n",
       "      <th>Gender</th>\n",
       "      <th>Age</th>\n",
       "      <th>Tenure</th>\n",
       "      <th>Balance</th>\n",
       "      <th>NumOfProducts</th>\n",
       "      <th>HasCrCard</th>\n",
       "      <th>IsActiveMember</th>\n",
       "      <th>EstimatedSalary</th>\n",
       "      <th>Exited</th>\n",
       "    </tr>\n",
       "  </thead>\n",
       "  <tbody>\n",
       "    <tr>\n",
       "      <th>0</th>\n",
       "      <td>1</td>\n",
       "      <td>15634602</td>\n",
       "      <td>Hargrave</td>\n",
       "      <td>619</td>\n",
       "      <td>France</td>\n",
       "      <td>Female</td>\n",
       "      <td>42</td>\n",
       "      <td>2</td>\n",
       "      <td>0.00</td>\n",
       "      <td>1</td>\n",
       "      <td>1</td>\n",
       "      <td>1</td>\n",
       "      <td>101348.88</td>\n",
       "      <td>1</td>\n",
       "    </tr>\n",
       "    <tr>\n",
       "      <th>1</th>\n",
       "      <td>2</td>\n",
       "      <td>15647311</td>\n",
       "      <td>Hill</td>\n",
       "      <td>608</td>\n",
       "      <td>Spain</td>\n",
       "      <td>Female</td>\n",
       "      <td>41</td>\n",
       "      <td>1</td>\n",
       "      <td>83807.86</td>\n",
       "      <td>1</td>\n",
       "      <td>0</td>\n",
       "      <td>1</td>\n",
       "      <td>112542.58</td>\n",
       "      <td>0</td>\n",
       "    </tr>\n",
       "    <tr>\n",
       "      <th>2</th>\n",
       "      <td>3</td>\n",
       "      <td>15619304</td>\n",
       "      <td>Onio</td>\n",
       "      <td>502</td>\n",
       "      <td>France</td>\n",
       "      <td>Female</td>\n",
       "      <td>42</td>\n",
       "      <td>8</td>\n",
       "      <td>159660.80</td>\n",
       "      <td>3</td>\n",
       "      <td>1</td>\n",
       "      <td>0</td>\n",
       "      <td>113931.57</td>\n",
       "      <td>1</td>\n",
       "    </tr>\n",
       "    <tr>\n",
       "      <th>3</th>\n",
       "      <td>4</td>\n",
       "      <td>15701354</td>\n",
       "      <td>Boni</td>\n",
       "      <td>699</td>\n",
       "      <td>France</td>\n",
       "      <td>Female</td>\n",
       "      <td>39</td>\n",
       "      <td>1</td>\n",
       "      <td>0.00</td>\n",
       "      <td>2</td>\n",
       "      <td>0</td>\n",
       "      <td>0</td>\n",
       "      <td>93826.63</td>\n",
       "      <td>0</td>\n",
       "    </tr>\n",
       "    <tr>\n",
       "      <th>4</th>\n",
       "      <td>5</td>\n",
       "      <td>15737888</td>\n",
       "      <td>Mitchell</td>\n",
       "      <td>850</td>\n",
       "      <td>Spain</td>\n",
       "      <td>Female</td>\n",
       "      <td>43</td>\n",
       "      <td>2</td>\n",
       "      <td>125510.82</td>\n",
       "      <td>1</td>\n",
       "      <td>1</td>\n",
       "      <td>1</td>\n",
       "      <td>79084.10</td>\n",
       "      <td>0</td>\n",
       "    </tr>\n",
       "  </tbody>\n",
       "</table>\n",
       "</div>"
      ],
      "text/plain": [
       "   RowNumber  CustomerId   Surname  CreditScore Geography  Gender  Age  \\\n",
       "0          1    15634602  Hargrave          619    France  Female   42   \n",
       "1          2    15647311      Hill          608     Spain  Female   41   \n",
       "2          3    15619304      Onio          502    France  Female   42   \n",
       "3          4    15701354      Boni          699    France  Female   39   \n",
       "4          5    15737888  Mitchell          850     Spain  Female   43   \n",
       "\n",
       "   Tenure    Balance  NumOfProducts  HasCrCard  IsActiveMember  \\\n",
       "0       2       0.00              1          1               1   \n",
       "1       1   83807.86              1          0               1   \n",
       "2       8  159660.80              3          1               0   \n",
       "3       1       0.00              2          0               0   \n",
       "4       2  125510.82              1          1               1   \n",
       "\n",
       "   EstimatedSalary  Exited  \n",
       "0        101348.88       1  \n",
       "1        112542.58       0  \n",
       "2        113931.57       1  \n",
       "3         93826.63       0  \n",
       "4         79084.10       0  "
      ]
     },
     "execution_count": 3,
     "metadata": {},
     "output_type": "execute_result"
    }
   ],
   "source": [
    "customer.head()"
   ]
  },
  {
   "cell_type": "code",
   "execution_count": 4,
   "id": "7479b568-bd5a-4b28-a6bb-b92161bdc947",
   "metadata": {},
   "outputs": [
    {
     "name": "stdout",
     "output_type": "stream",
     "text": [
      "<class 'pandas.core.frame.DataFrame'>\n",
      "RangeIndex: 10000 entries, 0 to 9999\n",
      "Data columns (total 14 columns):\n",
      " #   Column           Non-Null Count  Dtype  \n",
      "---  ------           --------------  -----  \n",
      " 0   RowNumber        10000 non-null  int64  \n",
      " 1   CustomerId       10000 non-null  int64  \n",
      " 2   Surname          10000 non-null  object \n",
      " 3   CreditScore      10000 non-null  int64  \n",
      " 4   Geography        10000 non-null  object \n",
      " 5   Gender           10000 non-null  object \n",
      " 6   Age              10000 non-null  int64  \n",
      " 7   Tenure           10000 non-null  int64  \n",
      " 8   Balance          10000 non-null  float64\n",
      " 9   NumOfProducts    10000 non-null  int64  \n",
      " 10  HasCrCard        10000 non-null  int64  \n",
      " 11  IsActiveMember   10000 non-null  int64  \n",
      " 12  EstimatedSalary  10000 non-null  float64\n",
      " 13  Exited           10000 non-null  int64  \n",
      "dtypes: float64(2), int64(9), object(3)\n",
      "memory usage: 1.1+ MB\n"
     ]
    }
   ],
   "source": [
    "customer.info()"
   ]
  },
  {
   "cell_type": "code",
   "execution_count": 5,
   "id": "4e216403-599c-4aa3-b681-de0f0de620cc",
   "metadata": {},
   "outputs": [
    {
     "data": {
      "text/plain": [
       "0"
      ]
     },
     "execution_count": 5,
     "metadata": {},
     "output_type": "execute_result"
    }
   ],
   "source": [
    "customer.duplicated().sum()"
   ]
  },
  {
   "cell_type": "code",
   "execution_count": 6,
   "id": "380aa901-ec63-437b-822b-6537fa8b7931",
   "metadata": {},
   "outputs": [
    {
     "data": {
      "text/plain": [
       "Exited\n",
       "0    7963\n",
       "1    2037\n",
       "Name: count, dtype: int64"
      ]
     },
     "execution_count": 6,
     "metadata": {},
     "output_type": "execute_result"
    }
   ],
   "source": [
    "customer['Exited'].value_counts()"
   ]
  },
  {
   "cell_type": "code",
   "execution_count": 7,
   "id": "603817ab-2c32-4336-91d0-5bd1106d6455",
   "metadata": {},
   "outputs": [
    {
     "data": {
      "text/plain": [
       "Geography\n",
       "France     5014\n",
       "Germany    2509\n",
       "Spain      2477\n",
       "Name: count, dtype: int64"
      ]
     },
     "execution_count": 7,
     "metadata": {},
     "output_type": "execute_result"
    }
   ],
   "source": [
    "customer['Geography'].value_counts()"
   ]
  },
  {
   "cell_type": "code",
   "execution_count": 8,
   "id": "cab423ee-b8cb-4071-aa31-9b2531fe195a",
   "metadata": {},
   "outputs": [
    {
     "data": {
      "text/plain": [
       "Gender\n",
       "Male      5457\n",
       "Female    4543\n",
       "Name: count, dtype: int64"
      ]
     },
     "execution_count": 8,
     "metadata": {},
     "output_type": "execute_result"
    }
   ],
   "source": [
    "customer['Gender'].value_counts()"
   ]
  },
  {
   "cell_type": "code",
   "execution_count": 9,
   "id": "ecf988aa-f9ed-4980-80d3-a818aad6a866",
   "metadata": {},
   "outputs": [],
   "source": [
    "customer.drop(['RowNumber','CustomerId','Surname'], axis=1,inplace = True)"
   ]
  },
  {
   "cell_type": "code",
   "execution_count": 10,
   "id": "cff33b00-5506-420b-a421-b8fe8172acc5",
   "metadata": {},
   "outputs": [
    {
     "data": {
      "text/html": [
       "<div>\n",
       "<style scoped>\n",
       "    .dataframe tbody tr th:only-of-type {\n",
       "        vertical-align: middle;\n",
       "    }\n",
       "\n",
       "    .dataframe tbody tr th {\n",
       "        vertical-align: top;\n",
       "    }\n",
       "\n",
       "    .dataframe thead th {\n",
       "        text-align: right;\n",
       "    }\n",
       "</style>\n",
       "<table border=\"1\" class=\"dataframe\">\n",
       "  <thead>\n",
       "    <tr style=\"text-align: right;\">\n",
       "      <th></th>\n",
       "      <th>CreditScore</th>\n",
       "      <th>Geography</th>\n",
       "      <th>Gender</th>\n",
       "      <th>Age</th>\n",
       "      <th>Tenure</th>\n",
       "      <th>Balance</th>\n",
       "      <th>NumOfProducts</th>\n",
       "      <th>HasCrCard</th>\n",
       "      <th>IsActiveMember</th>\n",
       "      <th>EstimatedSalary</th>\n",
       "      <th>Exited</th>\n",
       "    </tr>\n",
       "  </thead>\n",
       "  <tbody>\n",
       "    <tr>\n",
       "      <th>0</th>\n",
       "      <td>619</td>\n",
       "      <td>France</td>\n",
       "      <td>Female</td>\n",
       "      <td>42</td>\n",
       "      <td>2</td>\n",
       "      <td>0.00</td>\n",
       "      <td>1</td>\n",
       "      <td>1</td>\n",
       "      <td>1</td>\n",
       "      <td>101348.88</td>\n",
       "      <td>1</td>\n",
       "    </tr>\n",
       "    <tr>\n",
       "      <th>1</th>\n",
       "      <td>608</td>\n",
       "      <td>Spain</td>\n",
       "      <td>Female</td>\n",
       "      <td>41</td>\n",
       "      <td>1</td>\n",
       "      <td>83807.86</td>\n",
       "      <td>1</td>\n",
       "      <td>0</td>\n",
       "      <td>1</td>\n",
       "      <td>112542.58</td>\n",
       "      <td>0</td>\n",
       "    </tr>\n",
       "    <tr>\n",
       "      <th>2</th>\n",
       "      <td>502</td>\n",
       "      <td>France</td>\n",
       "      <td>Female</td>\n",
       "      <td>42</td>\n",
       "      <td>8</td>\n",
       "      <td>159660.80</td>\n",
       "      <td>3</td>\n",
       "      <td>1</td>\n",
       "      <td>0</td>\n",
       "      <td>113931.57</td>\n",
       "      <td>1</td>\n",
       "    </tr>\n",
       "    <tr>\n",
       "      <th>3</th>\n",
       "      <td>699</td>\n",
       "      <td>France</td>\n",
       "      <td>Female</td>\n",
       "      <td>39</td>\n",
       "      <td>1</td>\n",
       "      <td>0.00</td>\n",
       "      <td>2</td>\n",
       "      <td>0</td>\n",
       "      <td>0</td>\n",
       "      <td>93826.63</td>\n",
       "      <td>0</td>\n",
       "    </tr>\n",
       "    <tr>\n",
       "      <th>4</th>\n",
       "      <td>850</td>\n",
       "      <td>Spain</td>\n",
       "      <td>Female</td>\n",
       "      <td>43</td>\n",
       "      <td>2</td>\n",
       "      <td>125510.82</td>\n",
       "      <td>1</td>\n",
       "      <td>1</td>\n",
       "      <td>1</td>\n",
       "      <td>79084.10</td>\n",
       "      <td>0</td>\n",
       "    </tr>\n",
       "  </tbody>\n",
       "</table>\n",
       "</div>"
      ],
      "text/plain": [
       "   CreditScore Geography  Gender  Age  Tenure    Balance  NumOfProducts  \\\n",
       "0          619    France  Female   42       2       0.00              1   \n",
       "1          608     Spain  Female   41       1   83807.86              1   \n",
       "2          502    France  Female   42       8  159660.80              3   \n",
       "3          699    France  Female   39       1       0.00              2   \n",
       "4          850     Spain  Female   43       2  125510.82              1   \n",
       "\n",
       "   HasCrCard  IsActiveMember  EstimatedSalary  Exited  \n",
       "0          1               1        101348.88       1  \n",
       "1          0               1        112542.58       0  \n",
       "2          1               0        113931.57       1  \n",
       "3          0               0         93826.63       0  \n",
       "4          1               1         79084.10       0  "
      ]
     },
     "execution_count": 10,
     "metadata": {},
     "output_type": "execute_result"
    }
   ],
   "source": [
    "customer.head()"
   ]
  },
  {
   "cell_type": "code",
   "execution_count": 11,
   "id": "3b312276-7484-47e4-abc6-71c8ca4cf566",
   "metadata": {},
   "outputs": [],
   "source": [
    "from sklearn.preprocessing import StandardScaler,LabelEncoder\n"
   ]
  },
  {
   "cell_type": "code",
   "execution_count": 12,
   "id": "7c29f73a-cc7d-44d4-9124-00598d00b54c",
   "metadata": {},
   "outputs": [],
   "source": [
    "label = LabelEncoder()"
   ]
  },
  {
   "cell_type": "code",
   "execution_count": 13,
   "id": "ffa549ea-9974-4d78-b6d4-64de82ccac36",
   "metadata": {},
   "outputs": [],
   "source": [
    "customer['Geography']= label.fit_transform(customer['Geography'])\n",
    "customer['Gender']= label.fit_transform(customer['Gender'])\n"
   ]
  },
  {
   "cell_type": "code",
   "execution_count": 14,
   "id": "301781a0-2d2f-4d78-a077-4ffdf9c54aed",
   "metadata": {},
   "outputs": [
    {
     "data": {
      "text/html": [
       "<div>\n",
       "<style scoped>\n",
       "    .dataframe tbody tr th:only-of-type {\n",
       "        vertical-align: middle;\n",
       "    }\n",
       "\n",
       "    .dataframe tbody tr th {\n",
       "        vertical-align: top;\n",
       "    }\n",
       "\n",
       "    .dataframe thead th {\n",
       "        text-align: right;\n",
       "    }\n",
       "</style>\n",
       "<table border=\"1\" class=\"dataframe\">\n",
       "  <thead>\n",
       "    <tr style=\"text-align: right;\">\n",
       "      <th></th>\n",
       "      <th>CreditScore</th>\n",
       "      <th>Geography</th>\n",
       "      <th>Gender</th>\n",
       "      <th>Age</th>\n",
       "      <th>Tenure</th>\n",
       "      <th>Balance</th>\n",
       "      <th>NumOfProducts</th>\n",
       "      <th>HasCrCard</th>\n",
       "      <th>IsActiveMember</th>\n",
       "      <th>EstimatedSalary</th>\n",
       "      <th>Exited</th>\n",
       "    </tr>\n",
       "  </thead>\n",
       "  <tbody>\n",
       "    <tr>\n",
       "      <th>0</th>\n",
       "      <td>619</td>\n",
       "      <td>0</td>\n",
       "      <td>0</td>\n",
       "      <td>42</td>\n",
       "      <td>2</td>\n",
       "      <td>0.00</td>\n",
       "      <td>1</td>\n",
       "      <td>1</td>\n",
       "      <td>1</td>\n",
       "      <td>101348.88</td>\n",
       "      <td>1</td>\n",
       "    </tr>\n",
       "    <tr>\n",
       "      <th>1</th>\n",
       "      <td>608</td>\n",
       "      <td>2</td>\n",
       "      <td>0</td>\n",
       "      <td>41</td>\n",
       "      <td>1</td>\n",
       "      <td>83807.86</td>\n",
       "      <td>1</td>\n",
       "      <td>0</td>\n",
       "      <td>1</td>\n",
       "      <td>112542.58</td>\n",
       "      <td>0</td>\n",
       "    </tr>\n",
       "    <tr>\n",
       "      <th>2</th>\n",
       "      <td>502</td>\n",
       "      <td>0</td>\n",
       "      <td>0</td>\n",
       "      <td>42</td>\n",
       "      <td>8</td>\n",
       "      <td>159660.80</td>\n",
       "      <td>3</td>\n",
       "      <td>1</td>\n",
       "      <td>0</td>\n",
       "      <td>113931.57</td>\n",
       "      <td>1</td>\n",
       "    </tr>\n",
       "    <tr>\n",
       "      <th>3</th>\n",
       "      <td>699</td>\n",
       "      <td>0</td>\n",
       "      <td>0</td>\n",
       "      <td>39</td>\n",
       "      <td>1</td>\n",
       "      <td>0.00</td>\n",
       "      <td>2</td>\n",
       "      <td>0</td>\n",
       "      <td>0</td>\n",
       "      <td>93826.63</td>\n",
       "      <td>0</td>\n",
       "    </tr>\n",
       "    <tr>\n",
       "      <th>4</th>\n",
       "      <td>850</td>\n",
       "      <td>2</td>\n",
       "      <td>0</td>\n",
       "      <td>43</td>\n",
       "      <td>2</td>\n",
       "      <td>125510.82</td>\n",
       "      <td>1</td>\n",
       "      <td>1</td>\n",
       "      <td>1</td>\n",
       "      <td>79084.10</td>\n",
       "      <td>0</td>\n",
       "    </tr>\n",
       "  </tbody>\n",
       "</table>\n",
       "</div>"
      ],
      "text/plain": [
       "   CreditScore  Geography  Gender  Age  Tenure    Balance  NumOfProducts  \\\n",
       "0          619          0       0   42       2       0.00              1   \n",
       "1          608          2       0   41       1   83807.86              1   \n",
       "2          502          0       0   42       8  159660.80              3   \n",
       "3          699          0       0   39       1       0.00              2   \n",
       "4          850          2       0   43       2  125510.82              1   \n",
       "\n",
       "   HasCrCard  IsActiveMember  EstimatedSalary  Exited  \n",
       "0          1               1        101348.88       1  \n",
       "1          0               1        112542.58       0  \n",
       "2          1               0        113931.57       1  \n",
       "3          0               0         93826.63       0  \n",
       "4          1               1         79084.10       0  "
      ]
     },
     "execution_count": 14,
     "metadata": {},
     "output_type": "execute_result"
    }
   ],
   "source": [
    "customer.head()"
   ]
  },
  {
   "cell_type": "code",
   "execution_count": 15,
   "id": "30606cce-e968-4c08-9fc2-3843aea9303f",
   "metadata": {},
   "outputs": [],
   "source": [
    "X = customer.drop('Exited',axis=1)\n",
    "y = customer['Exited']"
   ]
  },
  {
   "cell_type": "code",
   "execution_count": 16,
   "id": "2fdeff5f-818f-4fd1-8bb6-7811279c67ea",
   "metadata": {},
   "outputs": [
    {
     "data": {
      "text/html": [
       "<div>\n",
       "<style scoped>\n",
       "    .dataframe tbody tr th:only-of-type {\n",
       "        vertical-align: middle;\n",
       "    }\n",
       "\n",
       "    .dataframe tbody tr th {\n",
       "        vertical-align: top;\n",
       "    }\n",
       "\n",
       "    .dataframe thead th {\n",
       "        text-align: right;\n",
       "    }\n",
       "</style>\n",
       "<table border=\"1\" class=\"dataframe\">\n",
       "  <thead>\n",
       "    <tr style=\"text-align: right;\">\n",
       "      <th></th>\n",
       "      <th>CreditScore</th>\n",
       "      <th>Geography</th>\n",
       "      <th>Gender</th>\n",
       "      <th>Age</th>\n",
       "      <th>Tenure</th>\n",
       "      <th>Balance</th>\n",
       "      <th>NumOfProducts</th>\n",
       "      <th>HasCrCard</th>\n",
       "      <th>IsActiveMember</th>\n",
       "      <th>EstimatedSalary</th>\n",
       "    </tr>\n",
       "  </thead>\n",
       "  <tbody>\n",
       "    <tr>\n",
       "      <th>0</th>\n",
       "      <td>619</td>\n",
       "      <td>0</td>\n",
       "      <td>0</td>\n",
       "      <td>42</td>\n",
       "      <td>2</td>\n",
       "      <td>0.00</td>\n",
       "      <td>1</td>\n",
       "      <td>1</td>\n",
       "      <td>1</td>\n",
       "      <td>101348.88</td>\n",
       "    </tr>\n",
       "    <tr>\n",
       "      <th>1</th>\n",
       "      <td>608</td>\n",
       "      <td>2</td>\n",
       "      <td>0</td>\n",
       "      <td>41</td>\n",
       "      <td>1</td>\n",
       "      <td>83807.86</td>\n",
       "      <td>1</td>\n",
       "      <td>0</td>\n",
       "      <td>1</td>\n",
       "      <td>112542.58</td>\n",
       "    </tr>\n",
       "    <tr>\n",
       "      <th>2</th>\n",
       "      <td>502</td>\n",
       "      <td>0</td>\n",
       "      <td>0</td>\n",
       "      <td>42</td>\n",
       "      <td>8</td>\n",
       "      <td>159660.80</td>\n",
       "      <td>3</td>\n",
       "      <td>1</td>\n",
       "      <td>0</td>\n",
       "      <td>113931.57</td>\n",
       "    </tr>\n",
       "    <tr>\n",
       "      <th>3</th>\n",
       "      <td>699</td>\n",
       "      <td>0</td>\n",
       "      <td>0</td>\n",
       "      <td>39</td>\n",
       "      <td>1</td>\n",
       "      <td>0.00</td>\n",
       "      <td>2</td>\n",
       "      <td>0</td>\n",
       "      <td>0</td>\n",
       "      <td>93826.63</td>\n",
       "    </tr>\n",
       "    <tr>\n",
       "      <th>4</th>\n",
       "      <td>850</td>\n",
       "      <td>2</td>\n",
       "      <td>0</td>\n",
       "      <td>43</td>\n",
       "      <td>2</td>\n",
       "      <td>125510.82</td>\n",
       "      <td>1</td>\n",
       "      <td>1</td>\n",
       "      <td>1</td>\n",
       "      <td>79084.10</td>\n",
       "    </tr>\n",
       "  </tbody>\n",
       "</table>\n",
       "</div>"
      ],
      "text/plain": [
       "   CreditScore  Geography  Gender  Age  Tenure    Balance  NumOfProducts  \\\n",
       "0          619          0       0   42       2       0.00              1   \n",
       "1          608          2       0   41       1   83807.86              1   \n",
       "2          502          0       0   42       8  159660.80              3   \n",
       "3          699          0       0   39       1       0.00              2   \n",
       "4          850          2       0   43       2  125510.82              1   \n",
       "\n",
       "   HasCrCard  IsActiveMember  EstimatedSalary  \n",
       "0          1               1        101348.88  \n",
       "1          0               1        112542.58  \n",
       "2          1               0        113931.57  \n",
       "3          0               0         93826.63  \n",
       "4          1               1         79084.10  "
      ]
     },
     "execution_count": 16,
     "metadata": {},
     "output_type": "execute_result"
    }
   ],
   "source": [
    "X.head()"
   ]
  },
  {
   "cell_type": "code",
   "execution_count": 17,
   "id": "361c1fe4-c219-4dd2-a02f-ae08711490da",
   "metadata": {},
   "outputs": [
    {
     "data": {
      "text/plain": [
       "0    1\n",
       "1    0\n",
       "2    1\n",
       "3    0\n",
       "4    0\n",
       "Name: Exited, dtype: int64"
      ]
     },
     "execution_count": 17,
     "metadata": {},
     "output_type": "execute_result"
    }
   ],
   "source": [
    "y.head()"
   ]
  },
  {
   "cell_type": "code",
   "execution_count": 18,
   "id": "45972753-4ce6-4dd7-9dee-ed643f326422",
   "metadata": {},
   "outputs": [],
   "source": [
    "from sklearn.model_selection import train_test_split"
   ]
  },
  {
   "cell_type": "code",
   "execution_count": 19,
   "id": "c55981f0-697a-403b-9791-c8728540007c",
   "metadata": {},
   "outputs": [],
   "source": [
    "X_train, X_test,y_train, y_test = train_test_split(X,y,test_size= 0.2,random_state = 2)"
   ]
  },
  {
   "cell_type": "code",
   "execution_count": 20,
   "id": "5d9ac542-2b7c-4269-8a3c-f96611929556",
   "metadata": {},
   "outputs": [
    {
     "data": {
      "text/plain": [
       "(8000, 10)"
      ]
     },
     "execution_count": 20,
     "metadata": {},
     "output_type": "execute_result"
    }
   ],
   "source": [
    "X.shape\n",
    "X_train.shape"
   ]
  },
  {
   "cell_type": "code",
   "execution_count": 21,
   "id": "5627b266-0e7e-4ebf-84a4-150e9a084d93",
   "metadata": {},
   "outputs": [],
   "source": [
    "sc = StandardScaler()"
   ]
  },
  {
   "cell_type": "code",
   "execution_count": 22,
   "id": "1f121fb4-5471-452a-9f45-c59daf83812e",
   "metadata": {},
   "outputs": [],
   "source": [
    "X_train = sc.fit_transform(X_train)\n",
    "X_test = sc.fit_transform(X_test)"
   ]
  },
  {
   "cell_type": "code",
   "execution_count": 23,
   "id": "3069283a-89e1-471e-b674-aecd71daf92e",
   "metadata": {},
   "outputs": [
    {
     "data": {
      "text/plain": [
       "array([[ 1.27754581, -0.90446787, -1.0862028 , ...,  0.64920267,\n",
       "         0.96510833, -0.62027126],\n",
       "       [-0.49959477,  0.30694063, -1.0862028 , ...,  0.64920267,\n",
       "         0.96510833,  0.54659799],\n",
       "       [ 0.67827747, -0.90446787, -1.0862028 , ...,  0.64920267,\n",
       "         0.96510833, -0.01320771],\n",
       "       ...,\n",
       "       [ 2.06279398, -0.90446787,  0.9206384 , ...,  0.64920267,\n",
       "        -1.03615311,  1.64356719],\n",
       "       [-1.02653762,  0.30694063,  0.9206384 , ...,  0.64920267,\n",
       "        -1.03615311,  1.32474442],\n",
       "       [ 0.03768029, -0.90446787, -1.0862028 , ...,  0.64920267,\n",
       "        -1.03615311,  0.88413017]])"
      ]
     },
     "execution_count": 23,
     "metadata": {},
     "output_type": "execute_result"
    }
   ],
   "source": [
    "X_train"
   ]
  },
  {
   "cell_type": "code",
   "execution_count": 40,
   "id": "da35736b-b41a-40bc-bf7f-e6a491227e5c",
   "metadata": {},
   "outputs": [],
   "source": [
    "import tensorflow\n",
    "from tensorflow import keras\n",
    "from tensorflow.keras import Sequential\n",
    "from tensorflow.keras.layers import Dense,Dropout"
   ]
  },
  {
   "cell_type": "code",
   "execution_count": 42,
   "id": "70fe1faa-e068-4e8a-a337-88d1ceccd386",
   "metadata": {},
   "outputs": [],
   "source": [
    "model = Sequential()\n",
    "\n",
    "model.add(Dense(15,activation = 'relu',input_dim = 10))\n",
    "model.add(Dropout(0.1))\n",
    "model.add(Dense(7,activation = 'relu'))\n",
    "model.add(Dense(5,activation = 'relu'))\n",
    "\n",
    "model.add(Dense(1,activation = 'sigmoid'))\n"
   ]
  },
  {
   "cell_type": "code",
   "execution_count": 43,
   "id": "d6945536-d030-4277-a516-2f1304012672",
   "metadata": {},
   "outputs": [
    {
     "name": "stdout",
     "output_type": "stream",
     "text": [
      "Model: \"sequential_3\"\n",
      "_________________________________________________________________\n",
      "Layer (type)                 Output Shape              Param #   \n",
      "=================================================================\n",
      "dense_9 (Dense)              (None, 15)                165       \n",
      "_________________________________________________________________\n",
      "dropout (Dropout)            (None, 15)                0         \n",
      "_________________________________________________________________\n",
      "dense_10 (Dense)             (None, 7)                 112       \n",
      "_________________________________________________________________\n",
      "dense_11 (Dense)             (None, 5)                 40        \n",
      "_________________________________________________________________\n",
      "dense_12 (Dense)             (None, 1)                 6         \n",
      "=================================================================\n",
      "Total params: 323\n",
      "Trainable params: 323\n",
      "Non-trainable params: 0\n",
      "_________________________________________________________________\n"
     ]
    }
   ],
   "source": [
    "model.summary()"
   ]
  },
  {
   "cell_type": "code",
   "execution_count": 44,
   "id": "77c705a1-555f-4bd5-be3f-abd748bb7ae4",
   "metadata": {},
   "outputs": [],
   "source": [
    "model.compile(loss = 'binary_crossentropy', optimizer = 'rmsprop',metrics = ['accuracy'])"
   ]
  },
  {
   "cell_type": "code",
   "execution_count": 45,
   "id": "bd8d0786-fd84-4bbe-854a-db3be17b309f",
   "metadata": {},
   "outputs": [
    {
     "name": "stdout",
     "output_type": "stream",
     "text": [
      "Epoch 1/100\n",
      "200/200 [==============================] - 2s 5ms/step - loss: 0.5112 - accuracy: 0.7894 - val_loss: 0.4476 - val_accuracy: 0.8062\n",
      "Epoch 2/100\n",
      "200/200 [==============================] - 1s 5ms/step - loss: 0.4536 - accuracy: 0.7900 - val_loss: 0.4217 - val_accuracy: 0.8062\n",
      "Epoch 3/100\n",
      "200/200 [==============================] - 1s 4ms/step - loss: 0.4365 - accuracy: 0.7900 - val_loss: 0.4107 - val_accuracy: 0.8062\n",
      "Epoch 4/100\n",
      "200/200 [==============================] - 1s 4ms/step - loss: 0.4309 - accuracy: 0.7927 - val_loss: 0.4057 - val_accuracy: 0.8269\n",
      "Epoch 5/100\n",
      "200/200 [==============================] - 1s 4ms/step - loss: 0.4243 - accuracy: 0.8133 - val_loss: 0.4004 - val_accuracy: 0.8344\n",
      "Epoch 6/100\n",
      "200/200 [==============================] - 1s 4ms/step - loss: 0.4197 - accuracy: 0.8191 - val_loss: 0.3973 - val_accuracy: 0.8356\n",
      "Epoch 7/100\n",
      "200/200 [==============================] - 1s 4ms/step - loss: 0.4133 - accuracy: 0.8255 - val_loss: 0.3925 - val_accuracy: 0.8394\n",
      "Epoch 8/100\n",
      "200/200 [==============================] - 1s 5ms/step - loss: 0.4118 - accuracy: 0.8280 - val_loss: 0.3882 - val_accuracy: 0.8413\n",
      "Epoch 9/100\n",
      "200/200 [==============================] - 1s 5ms/step - loss: 0.4021 - accuracy: 0.8314 - val_loss: 0.3826 - val_accuracy: 0.8450\n",
      "Epoch 10/100\n",
      "200/200 [==============================] - 1s 4ms/step - loss: 0.4007 - accuracy: 0.8339 - val_loss: 0.3784 - val_accuracy: 0.8413\n",
      "Epoch 11/100\n",
      "200/200 [==============================] - 1s 4ms/step - loss: 0.3961 - accuracy: 0.8338 - val_loss: 0.3731 - val_accuracy: 0.8481\n",
      "Epoch 12/100\n",
      "200/200 [==============================] - 1s 4ms/step - loss: 0.3924 - accuracy: 0.8336 - val_loss: 0.3701 - val_accuracy: 0.8450\n",
      "Epoch 13/100\n",
      "200/200 [==============================] - 1s 4ms/step - loss: 0.3892 - accuracy: 0.8381 - val_loss: 0.3640 - val_accuracy: 0.8456\n",
      "Epoch 14/100\n",
      "200/200 [==============================] - 1s 5ms/step - loss: 0.3805 - accuracy: 0.8444 - val_loss: 0.3579 - val_accuracy: 0.8500\n",
      "Epoch 15/100\n",
      "200/200 [==============================] - 1s 4ms/step - loss: 0.3770 - accuracy: 0.8431 - val_loss: 0.3531 - val_accuracy: 0.8587\n",
      "Epoch 16/100\n",
      "200/200 [==============================] - 1s 4ms/step - loss: 0.3725 - accuracy: 0.8441 - val_loss: 0.3487 - val_accuracy: 0.8600\n",
      "Epoch 17/100\n",
      "200/200 [==============================] - 1s 5ms/step - loss: 0.3723 - accuracy: 0.8455 - val_loss: 0.3453 - val_accuracy: 0.8612\n",
      "Epoch 18/100\n",
      "200/200 [==============================] - 1s 5ms/step - loss: 0.3674 - accuracy: 0.8461 - val_loss: 0.3442 - val_accuracy: 0.8587\n",
      "Epoch 19/100\n",
      "200/200 [==============================] - 1s 5ms/step - loss: 0.3650 - accuracy: 0.8494 - val_loss: 0.3423 - val_accuracy: 0.8612\n",
      "Epoch 20/100\n",
      "200/200 [==============================] - 1s 6ms/step - loss: 0.3629 - accuracy: 0.8464 - val_loss: 0.3392 - val_accuracy: 0.8587\n",
      "Epoch 21/100\n",
      "200/200 [==============================] - 1s 4ms/step - loss: 0.3621 - accuracy: 0.8481 - val_loss: 0.3387 - val_accuracy: 0.8612\n",
      "Epoch 22/100\n",
      "200/200 [==============================] - 1s 4ms/step - loss: 0.3604 - accuracy: 0.8466 - val_loss: 0.3384 - val_accuracy: 0.8637\n",
      "Epoch 23/100\n",
      "200/200 [==============================] - 1s 4ms/step - loss: 0.3601 - accuracy: 0.8511 - val_loss: 0.3397 - val_accuracy: 0.8600\n",
      "Epoch 24/100\n",
      "200/200 [==============================] - 1s 4ms/step - loss: 0.3615 - accuracy: 0.8455 - val_loss: 0.3398 - val_accuracy: 0.8625\n",
      "Epoch 25/100\n",
      "200/200 [==============================] - 1s 4ms/step - loss: 0.3568 - accuracy: 0.8516 - val_loss: 0.3389 - val_accuracy: 0.8625\n",
      "Epoch 26/100\n",
      "200/200 [==============================] - 1s 5ms/step - loss: 0.3604 - accuracy: 0.8456 - val_loss: 0.3384 - val_accuracy: 0.8594\n",
      "Epoch 27/100\n",
      "200/200 [==============================] - 1s 4ms/step - loss: 0.3545 - accuracy: 0.8512 - val_loss: 0.3384 - val_accuracy: 0.8619\n",
      "Epoch 28/100\n",
      "200/200 [==============================] - 1s 4ms/step - loss: 0.3575 - accuracy: 0.8483 - val_loss: 0.3380 - val_accuracy: 0.8606\n",
      "Epoch 29/100\n",
      "200/200 [==============================] - 1s 5ms/step - loss: 0.3532 - accuracy: 0.8547 - val_loss: 0.3364 - val_accuracy: 0.8631\n",
      "Epoch 30/100\n",
      "200/200 [==============================] - 1s 5ms/step - loss: 0.3559 - accuracy: 0.8533 - val_loss: 0.3383 - val_accuracy: 0.8587\n",
      "Epoch 31/100\n",
      "200/200 [==============================] - 1s 5ms/step - loss: 0.3532 - accuracy: 0.8528 - val_loss: 0.3366 - val_accuracy: 0.8612\n",
      "Epoch 32/100\n",
      "200/200 [==============================] - 1s 5ms/step - loss: 0.3536 - accuracy: 0.8531 - val_loss: 0.3351 - val_accuracy: 0.8637\n",
      "Epoch 33/100\n",
      "200/200 [==============================] - 1s 5ms/step - loss: 0.3541 - accuracy: 0.8550 - val_loss: 0.3371 - val_accuracy: 0.8625\n",
      "Epoch 34/100\n",
      "200/200 [==============================] - 1s 4ms/step - loss: 0.3556 - accuracy: 0.8506 - val_loss: 0.3374 - val_accuracy: 0.8619\n",
      "Epoch 35/100\n",
      "200/200 [==============================] - 1s 5ms/step - loss: 0.3515 - accuracy: 0.8584 - val_loss: 0.3349 - val_accuracy: 0.8600\n",
      "Epoch 36/100\n",
      "200/200 [==============================] - 1s 6ms/step - loss: 0.3517 - accuracy: 0.8525 - val_loss: 0.3369 - val_accuracy: 0.8650\n",
      "Epoch 37/100\n",
      "200/200 [==============================] - 1s 5ms/step - loss: 0.3562 - accuracy: 0.8533 - val_loss: 0.3372 - val_accuracy: 0.8644\n",
      "Epoch 38/100\n",
      "200/200 [==============================] - 1s 5ms/step - loss: 0.3513 - accuracy: 0.8542 - val_loss: 0.3350 - val_accuracy: 0.8606\n",
      "Epoch 39/100\n",
      "200/200 [==============================] - 1s 5ms/step - loss: 0.3517 - accuracy: 0.8537 - val_loss: 0.3348 - val_accuracy: 0.8625\n",
      "Epoch 40/100\n",
      "200/200 [==============================] - 1s 5ms/step - loss: 0.3533 - accuracy: 0.8552 - val_loss: 0.3345 - val_accuracy: 0.8637\n",
      "Epoch 41/100\n",
      "200/200 [==============================] - 1s 5ms/step - loss: 0.3509 - accuracy: 0.8555 - val_loss: 0.3321 - val_accuracy: 0.8606\n",
      "Epoch 42/100\n",
      "200/200 [==============================] - 1s 6ms/step - loss: 0.3493 - accuracy: 0.8583 - val_loss: 0.3346 - val_accuracy: 0.8625\n",
      "Epoch 43/100\n",
      "200/200 [==============================] - 1s 4ms/step - loss: 0.3497 - accuracy: 0.8545 - val_loss: 0.3328 - val_accuracy: 0.8625\n",
      "Epoch 44/100\n",
      "200/200 [==============================] - 1s 4ms/step - loss: 0.3509 - accuracy: 0.8562 - val_loss: 0.3362 - val_accuracy: 0.8650\n",
      "Epoch 45/100\n",
      "200/200 [==============================] - 1s 4ms/step - loss: 0.3487 - accuracy: 0.8556 - val_loss: 0.3328 - val_accuracy: 0.8637\n",
      "Epoch 46/100\n",
      "200/200 [==============================] - 1s 4ms/step - loss: 0.3507 - accuracy: 0.8552 - val_loss: 0.3346 - val_accuracy: 0.8644\n",
      "Epoch 47/100\n",
      "200/200 [==============================] - 1s 4ms/step - loss: 0.3488 - accuracy: 0.8559 - val_loss: 0.3315 - val_accuracy: 0.8644\n",
      "Epoch 48/100\n",
      "200/200 [==============================] - 1s 4ms/step - loss: 0.3451 - accuracy: 0.8572 - val_loss: 0.3332 - val_accuracy: 0.8644\n",
      "Epoch 49/100\n",
      "200/200 [==============================] - 1s 5ms/step - loss: 0.3509 - accuracy: 0.8553 - val_loss: 0.3324 - val_accuracy: 0.8606\n",
      "Epoch 50/100\n",
      "200/200 [==============================] - 1s 5ms/step - loss: 0.3472 - accuracy: 0.8548 - val_loss: 0.3333 - val_accuracy: 0.8631\n",
      "Epoch 51/100\n",
      "200/200 [==============================] - 1s 4ms/step - loss: 0.3472 - accuracy: 0.8577 - val_loss: 0.3318 - val_accuracy: 0.8612\n",
      "Epoch 52/100\n",
      "200/200 [==============================] - 1s 5ms/step - loss: 0.3454 - accuracy: 0.8572 - val_loss: 0.3354 - val_accuracy: 0.8612\n",
      "Epoch 53/100\n",
      "200/200 [==============================] - 1s 5ms/step - loss: 0.3454 - accuracy: 0.8566 - val_loss: 0.3321 - val_accuracy: 0.8637\n",
      "Epoch 54/100\n",
      "200/200 [==============================] - 1s 5ms/step - loss: 0.3424 - accuracy: 0.8583 - val_loss: 0.3314 - val_accuracy: 0.8631\n",
      "Epoch 55/100\n",
      "200/200 [==============================] - 1s 4ms/step - loss: 0.3454 - accuracy: 0.8589 - val_loss: 0.3334 - val_accuracy: 0.8625\n",
      "Epoch 56/100\n",
      "200/200 [==============================] - 1s 4ms/step - loss: 0.3444 - accuracy: 0.8581 - val_loss: 0.3337 - val_accuracy: 0.8612\n",
      "Epoch 57/100\n",
      "200/200 [==============================] - 1s 4ms/step - loss: 0.3450 - accuracy: 0.8581 - val_loss: 0.3316 - val_accuracy: 0.8644\n",
      "Epoch 58/100\n",
      "200/200 [==============================] - 1s 4ms/step - loss: 0.3433 - accuracy: 0.8561 - val_loss: 0.3332 - val_accuracy: 0.8625\n",
      "Epoch 59/100\n",
      "200/200 [==============================] - 1s 5ms/step - loss: 0.3430 - accuracy: 0.8597 - val_loss: 0.3319 - val_accuracy: 0.8631\n",
      "Epoch 60/100\n",
      "200/200 [==============================] - 1s 4ms/step - loss: 0.3447 - accuracy: 0.8600 - val_loss: 0.3326 - val_accuracy: 0.8631\n",
      "Epoch 61/100\n",
      "200/200 [==============================] - 1s 4ms/step - loss: 0.3415 - accuracy: 0.8569 - val_loss: 0.3334 - val_accuracy: 0.8644\n",
      "Epoch 62/100\n",
      "200/200 [==============================] - 1s 5ms/step - loss: 0.3452 - accuracy: 0.8581 - val_loss: 0.3346 - val_accuracy: 0.8619\n",
      "Epoch 63/100\n",
      "200/200 [==============================] - 1s 5ms/step - loss: 0.3430 - accuracy: 0.8584 - val_loss: 0.3316 - val_accuracy: 0.8650\n",
      "Epoch 64/100\n",
      "200/200 [==============================] - 1s 4ms/step - loss: 0.3434 - accuracy: 0.8566 - val_loss: 0.3334 - val_accuracy: 0.8644\n",
      "Epoch 65/100\n",
      "200/200 [==============================] - 1s 4ms/step - loss: 0.3423 - accuracy: 0.8605 - val_loss: 0.3327 - val_accuracy: 0.8631\n",
      "Epoch 66/100\n",
      "200/200 [==============================] - 1s 5ms/step - loss: 0.3418 - accuracy: 0.8608 - val_loss: 0.3358 - val_accuracy: 0.8656\n",
      "Epoch 67/100\n",
      "200/200 [==============================] - 1s 4ms/step - loss: 0.3409 - accuracy: 0.8572 - val_loss: 0.3322 - val_accuracy: 0.8656\n",
      "Epoch 68/100\n",
      "200/200 [==============================] - 1s 5ms/step - loss: 0.3414 - accuracy: 0.8594 - val_loss: 0.3328 - val_accuracy: 0.8656\n",
      "Epoch 69/100\n",
      "200/200 [==============================] - 1s 4ms/step - loss: 0.3406 - accuracy: 0.8573 - val_loss: 0.3330 - val_accuracy: 0.8656\n",
      "Epoch 70/100\n",
      "200/200 [==============================] - 1s 5ms/step - loss: 0.3427 - accuracy: 0.8578 - val_loss: 0.3330 - val_accuracy: 0.8662\n",
      "Epoch 71/100\n",
      "200/200 [==============================] - 1s 5ms/step - loss: 0.3402 - accuracy: 0.8605 - val_loss: 0.3324 - val_accuracy: 0.8681\n",
      "Epoch 72/100\n",
      "200/200 [==============================] - 1s 5ms/step - loss: 0.3409 - accuracy: 0.8609 - val_loss: 0.3330 - val_accuracy: 0.8650\n",
      "Epoch 73/100\n",
      "200/200 [==============================] - 1s 4ms/step - loss: 0.3409 - accuracy: 0.8583 - val_loss: 0.3349 - val_accuracy: 0.8656\n",
      "Epoch 74/100\n",
      "200/200 [==============================] - 1s 5ms/step - loss: 0.3420 - accuracy: 0.8595 - val_loss: 0.3332 - val_accuracy: 0.8656\n",
      "Epoch 75/100\n",
      "200/200 [==============================] - 1s 5ms/step - loss: 0.3398 - accuracy: 0.8600 - val_loss: 0.3334 - val_accuracy: 0.8606\n",
      "Epoch 76/100\n",
      "200/200 [==============================] - 1s 5ms/step - loss: 0.3426 - accuracy: 0.8592 - val_loss: 0.3336 - val_accuracy: 0.8675\n",
      "Epoch 77/100\n",
      "200/200 [==============================] - 1s 4ms/step - loss: 0.3374 - accuracy: 0.8602 - val_loss: 0.3335 - val_accuracy: 0.8600\n",
      "Epoch 78/100\n",
      "200/200 [==============================] - 1s 5ms/step - loss: 0.3389 - accuracy: 0.8587 - val_loss: 0.3331 - val_accuracy: 0.8644\n",
      "Epoch 79/100\n",
      "200/200 [==============================] - 1s 5ms/step - loss: 0.3405 - accuracy: 0.8609 - val_loss: 0.3413 - val_accuracy: 0.8631\n",
      "Epoch 80/100\n",
      "200/200 [==============================] - 1s 4ms/step - loss: 0.3399 - accuracy: 0.8600 - val_loss: 0.3347 - val_accuracy: 0.8650\n",
      "Epoch 81/100\n",
      "200/200 [==============================] - 1s 5ms/step - loss: 0.3415 - accuracy: 0.8603 - val_loss: 0.3329 - val_accuracy: 0.8644\n",
      "Epoch 82/100\n",
      "200/200 [==============================] - 1s 5ms/step - loss: 0.3409 - accuracy: 0.8611 - val_loss: 0.3346 - val_accuracy: 0.8644\n",
      "Epoch 83/100\n",
      "200/200 [==============================] - 1s 5ms/step - loss: 0.3408 - accuracy: 0.8622 - val_loss: 0.3366 - val_accuracy: 0.8631\n",
      "Epoch 84/100\n",
      "200/200 [==============================] - 1s 5ms/step - loss: 0.3419 - accuracy: 0.8612 - val_loss: 0.3344 - val_accuracy: 0.8637\n",
      "Epoch 85/100\n",
      "200/200 [==============================] - 1s 5ms/step - loss: 0.3369 - accuracy: 0.8619 - val_loss: 0.3363 - val_accuracy: 0.8625\n",
      "Epoch 86/100\n",
      "200/200 [==============================] - 1s 5ms/step - loss: 0.3382 - accuracy: 0.8625 - val_loss: 0.3355 - val_accuracy: 0.8612\n",
      "Epoch 87/100\n",
      "200/200 [==============================] - 1s 5ms/step - loss: 0.3401 - accuracy: 0.8623 - val_loss: 0.3365 - val_accuracy: 0.8619\n",
      "Epoch 88/100\n",
      "200/200 [==============================] - 1s 5ms/step - loss: 0.3377 - accuracy: 0.8597 - val_loss: 0.3373 - val_accuracy: 0.8612\n",
      "Epoch 89/100\n",
      "200/200 [==============================] - 1s 5ms/step - loss: 0.3399 - accuracy: 0.8605 - val_loss: 0.3357 - val_accuracy: 0.8606\n",
      "Epoch 90/100\n",
      "200/200 [==============================] - 1s 4ms/step - loss: 0.3390 - accuracy: 0.8605 - val_loss: 0.3373 - val_accuracy: 0.8600\n",
      "Epoch 91/100\n",
      "200/200 [==============================] - 1s 5ms/step - loss: 0.3373 - accuracy: 0.8609 - val_loss: 0.3361 - val_accuracy: 0.8625\n",
      "Epoch 92/100\n",
      "200/200 [==============================] - 1s 5ms/step - loss: 0.3395 - accuracy: 0.8577 - val_loss: 0.3335 - val_accuracy: 0.8612\n",
      "Epoch 93/100\n",
      "200/200 [==============================] - 1s 4ms/step - loss: 0.3344 - accuracy: 0.8631 - val_loss: 0.3338 - val_accuracy: 0.8594\n",
      "Epoch 94/100\n",
      "200/200 [==============================] - 1s 5ms/step - loss: 0.3355 - accuracy: 0.8630 - val_loss: 0.3354 - val_accuracy: 0.8625\n",
      "Epoch 95/100\n",
      "200/200 [==============================] - 1s 4ms/step - loss: 0.3377 - accuracy: 0.8609 - val_loss: 0.3347 - val_accuracy: 0.8612\n",
      "Epoch 96/100\n",
      "200/200 [==============================] - 1s 4ms/step - loss: 0.3403 - accuracy: 0.8619 - val_loss: 0.3349 - val_accuracy: 0.8625\n",
      "Epoch 97/100\n",
      "200/200 [==============================] - 1s 5ms/step - loss: 0.3403 - accuracy: 0.8609 - val_loss: 0.3377 - val_accuracy: 0.8644\n",
      "Epoch 98/100\n",
      "200/200 [==============================] - 1s 5ms/step - loss: 0.3354 - accuracy: 0.8622 - val_loss: 0.3366 - val_accuracy: 0.8619\n",
      "Epoch 99/100\n",
      "200/200 [==============================] - 1s 5ms/step - loss: 0.3376 - accuracy: 0.8603 - val_loss: 0.3347 - val_accuracy: 0.8619\n",
      "Epoch 100/100\n",
      "200/200 [==============================] - 1s 5ms/step - loss: 0.3378 - accuracy: 0.8619 - val_loss: 0.3354 - val_accuracy: 0.8619\n"
     ]
    }
   ],
   "source": [
    "history= model.fit(X_train,y_train, epochs = 100, validation_split= 0.2)"
   ]
  },
  {
   "cell_type": "code",
   "execution_count": 47,
   "id": "fbf338ec-7edd-4a2a-b2cd-0b0338f1db60",
   "metadata": {},
   "outputs": [],
   "source": [
    "y_log = model.predict(X_test) # As we have used sigmoid as activation function it will give values between 0 to 1. "
   ]
  },
  {
   "cell_type": "code",
   "execution_count": 51,
   "id": "22d2d2ed-9480-45dd-9e41-609f33830691",
   "metadata": {},
   "outputs": [],
   "source": [
    "y_pred = np.where(y_log>0.5,1,0) # We need to decide a threashould for classification, here for example values above 0.5 will be 1(Yes) and below will be 0 (No)"
   ]
  },
  {
   "cell_type": "code",
   "execution_count": 52,
   "id": "2edb0f96-e381-4b98-8519-3ea82bfe531d",
   "metadata": {},
   "outputs": [],
   "source": [
    "from sklearn.metrics import accuracy_score"
   ]
  },
  {
   "cell_type": "code",
   "execution_count": 53,
   "id": "858880a5-982c-4e11-a047-0076bdd03752",
   "metadata": {},
   "outputs": [
    {
     "data": {
      "text/plain": [
       "0.8565"
      ]
     },
     "execution_count": 53,
     "metadata": {},
     "output_type": "execute_result"
    }
   ],
   "source": [
    "accuracy_score(y_test, y_pred)"
   ]
  },
  {
   "cell_type": "code",
   "execution_count": 54,
   "id": "f88c07fa-557b-4ea0-92ba-acf41764793b",
   "metadata": {},
   "outputs": [
    {
     "data": {
      "text/plain": [
       "[<matplotlib.lines.Line2D at 0x21cd51df490>]"
      ]
     },
     "execution_count": 54,
     "metadata": {},
     "output_type": "execute_result"
    },
    {
     "data": {
      "image/png": "[encoded data removed]",
      "text/plain": [
       "<Figure size 640x480 with 1 Axes>"
      ]
     },
     "metadata": {},
     "output_type": "display_data"
    }
   ],
   "source": [
    "plt.plot(history.history['loss'])\n",
    "plt.plot(history.history['val_loss'])"
   ]
  },
  {
   "cell_type": "code",
   "execution_count": 55,
   "id": "d5ad73bd-1182-41e9-b0c6-bde20b8c026e",
   "metadata": {},
   "outputs": [
    {
     "data": {
      "text/plain": [
       "[<matplotlib.lines.Line2D at 0x21cd0cc3a60>]"
      ]
     },
     "execution_count": 55,
     "metadata": {},
     "output_type": "execute_result"
    },
    {
     "data": {
      "image/png": "[encoded data removed]",
      "text/plain": [
       "<Figure size 640x480 with 1 Axes>"
      ]
     },
     "metadata": {},
     "output_type": "display_data"
    }
   ],
   "source": [
    "plt.plot(history.history['accuracy'])\n",
    "plt.plot(history.history['val_accuracy'])"
   ]
  },
  {
   "cell_type": "code",
   "execution_count": null,
   "id": "9bbe200d-3b29-44ca-ab50-589567df40b5",
   "metadata": {},
   "outputs": [],
   "source": []
  }
 ],
 "metadata": {
  "kernelspec": {
   "display_name": "Python 3 (ipykernel)",
   "language": "python",
   "name": "python3"
  },
  "language_info": {
   "codemirror_mode": {
    "name": "ipython",
    "version": 3
   },
   "file_extension": ".py",
   "mimetype": "text/x-python",
   "name": "python",
   "nbconvert_exporter": "python",
   "pygments_lexer": "ipython3",
   "version": "3.11.5"
  }
 },
 "nbformat": 4,
 "nbformat_minor": 5
}
